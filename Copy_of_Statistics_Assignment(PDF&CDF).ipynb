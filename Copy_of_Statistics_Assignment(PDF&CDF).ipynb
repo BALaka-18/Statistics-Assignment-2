{
  "nbformat": 4,
  "nbformat_minor": 0,
  "metadata": {
    "kernelspec": {
      "display_name": "Python 3",
      "language": "python",
      "name": "python3"
    },
    "language_info": {
      "codemirror_mode": {
        "name": "ipython",
        "version": 3
      },
      "file_extension": ".py",
      "mimetype": "text/x-python",
      "name": "python",
      "nbconvert_exporter": "python",
      "pygments_lexer": "ipython3",
      "version": "3.7.1"
    },
    "colab": {
      "name": "Copy of Statistics_Assignment(PDF&CDF).ipynb",
      "provenance": [],
      "collapsed_sections": [],
      "include_colab_link": true
    }
  },
  "cells": [
    {
      "cell_type": "markdown",
      "metadata": {
        "id": "view-in-github",
        "colab_type": "text"
      },
      "source": [
        "<a href=\"https://colab.research.google.com/github/BALaka-18/Statistics-Assignment-2/blob/master/Copy_of_Statistics_Assignment(PDF%26CDF).ipynb\" target=\"_parent\"><img src=\"https://colab.research.google.com/assets/colab-badge.svg\" alt=\"Open In Colab\"/></a>"
      ]
    },
    {
      "cell_type": "markdown",
      "metadata": {
        "id": "DQGYoUkMNcQl",
        "colab_type": "text"
      },
      "source": [
        "Data set:\n",
        "https://drive.google.com/open?id=1oPpVV8A_bROfReZCQP2AfgR3zIL_WeiA\n",
        "\n",
        "(From Kaggle)-- https://www.kaggle.com/gilsousa/habermans-survival-data-set\n",
        "\n",
        "Description:-\n",
        "https://drive.google.com/open?id=1ee_Ux01UTqZOGQG4GP_FDDhUKWXj1-PF"
      ]
    },
    {
      "cell_type": "markdown",
      "metadata": {
        "id": "rMstrNZJNcQs",
        "colab_type": "text"
      },
      "source": [
        "Attribute Information:\n",
        "   1. Age of patient at time of operation (numerical)\n",
        "   2. Patient's year of operation (year numerical)\n",
        "   3. Number of positive axillary nodes detected (numerical)\n",
        "   4. Survival status (class attribute)\n",
        "         1 = the patient survived 5 years or longer\n",
        "         2 = the patient died within 5 year"
      ]
    },
    {
      "cell_type": "code",
      "metadata": {
        "id": "5JqDZSSzzpta",
        "colab_type": "code",
        "outputId": "efe2b211-83f6-45d6-ff1c-e0875cf7c9b3",
        "colab": {
          "base_uri": "https://localhost:8080/",
          "height": 124
        }
      },
      "source": [
        "import pandas as pd\n",
        "import numpy as np\n",
        "import seaborn as sns\n",
        "import matplotlib as ml\n",
        "import matplotlib.pyplot as plt\n",
        "from google.colab import drive\n",
        "%matplotlib inline\n",
        "ml.style.use('ggplot')\n",
        "\n",
        "drive.mount(\"/content/gdrive\")"
      ],
      "execution_count": 2,
      "outputs": [
        {
          "output_type": "stream",
          "text": [
            "Go to this URL in a browser: https://accounts.google.com/o/oauth2/auth?client_id=947318989803-6bn6qk8qdgf4n4g3pfee6491hc0brc4i.apps.googleusercontent.com&redirect_uri=urn%3aietf%3awg%3aoauth%3a2.0%3aoob&response_type=code&scope=email%20https%3a%2f%2fwww.googleapis.com%2fauth%2fdocs.test%20https%3a%2f%2fwww.googleapis.com%2fauth%2fdrive%20https%3a%2f%2fwww.googleapis.com%2fauth%2fdrive.photos.readonly%20https%3a%2f%2fwww.googleapis.com%2fauth%2fpeopleapi.readonly\n",
            "\n",
            "Enter your authorization code:\n",
            "··········\n",
            "Mounted at /content/gdrive\n"
          ],
          "name": "stdout"
        }
      ]
    },
    {
      "cell_type": "code",
      "metadata": {
        "id": "xu1iQoHQ1H68",
        "colab_type": "code",
        "outputId": "c793cb29-a40a-4aef-ad34-cda2b9271dfd",
        "colab": {
          "base_uri": "https://localhost:8080/",
          "height": 202
        }
      },
      "source": [
        "hab = pd.read_csv('/content/gdrive/My Drive/haberman.csv')\n",
        "hab.head()"
      ],
      "execution_count": 3,
      "outputs": [
        {
          "output_type": "execute_result",
          "data": {
            "text/html": [
              "<div>\n",
              "<style scoped>\n",
              "    .dataframe tbody tr th:only-of-type {\n",
              "        vertical-align: middle;\n",
              "    }\n",
              "\n",
              "    .dataframe tbody tr th {\n",
              "        vertical-align: top;\n",
              "    }\n",
              "\n",
              "    .dataframe thead th {\n",
              "        text-align: right;\n",
              "    }\n",
              "</style>\n",
              "<table border=\"1\" class=\"dataframe\">\n",
              "  <thead>\n",
              "    <tr style=\"text-align: right;\">\n",
              "      <th></th>\n",
              "      <th>age</th>\n",
              "      <th>year</th>\n",
              "      <th>nodes</th>\n",
              "      <th>survive</th>\n",
              "    </tr>\n",
              "  </thead>\n",
              "  <tbody>\n",
              "    <tr>\n",
              "      <th>0</th>\n",
              "      <td>30</td>\n",
              "      <td>64</td>\n",
              "      <td>1</td>\n",
              "      <td>1</td>\n",
              "    </tr>\n",
              "    <tr>\n",
              "      <th>1</th>\n",
              "      <td>30</td>\n",
              "      <td>62</td>\n",
              "      <td>3</td>\n",
              "      <td>1</td>\n",
              "    </tr>\n",
              "    <tr>\n",
              "      <th>2</th>\n",
              "      <td>30</td>\n",
              "      <td>65</td>\n",
              "      <td>0</td>\n",
              "      <td>1</td>\n",
              "    </tr>\n",
              "    <tr>\n",
              "      <th>3</th>\n",
              "      <td>31</td>\n",
              "      <td>59</td>\n",
              "      <td>2</td>\n",
              "      <td>1</td>\n",
              "    </tr>\n",
              "    <tr>\n",
              "      <th>4</th>\n",
              "      <td>31</td>\n",
              "      <td>65</td>\n",
              "      <td>4</td>\n",
              "      <td>1</td>\n",
              "    </tr>\n",
              "  </tbody>\n",
              "</table>\n",
              "</div>"
            ],
            "text/plain": [
              "   age  year  nodes  survive\n",
              "0   30    64      1        1\n",
              "1   30    62      3        1\n",
              "2   30    65      0        1\n",
              "3   31    59      2        1\n",
              "4   31    65      4        1"
            ]
          },
          "metadata": {
            "tags": []
          },
          "execution_count": 3
        }
      ]
    },
    {
      "cell_type": "markdown",
      "metadata": {
        "id": "rQODJSt4NcQv",
        "colab_type": "text"
      },
      "source": [
        "### Analyse the above linked dataset as like iris data."
      ]
    },
    {
      "cell_type": "code",
      "metadata": {
        "id": "C6gbCbaGNcQy",
        "colab_type": "code",
        "colab": {
          "base_uri": "https://localhost:8080/",
          "height": 69
        },
        "outputId": "5fb11cc1-7d2d-4024-8363-0ce4f827e77d"
      },
      "source": [
        "hab.survive.value_counts()"
      ],
      "execution_count": 27,
      "outputs": [
        {
          "output_type": "execute_result",
          "data": {
            "text/plain": [
              "1    225\n",
              "2     81\n",
              "Name: survive, dtype: int64"
            ]
          },
          "metadata": {
            "tags": []
          },
          "execution_count": 27
        }
      ]
    },
    {
      "cell_type": "code",
      "metadata": {
        "id": "ebBWPoP6b3BA",
        "colab_type": "code",
        "colab": {}
      },
      "source": [
        "s1 = hab[hab['survive']==1]\n",
        "s2 = hab[hab['survive']==2]"
      ],
      "execution_count": 0,
      "outputs": []
    },
    {
      "cell_type": "code",
      "metadata": {
        "id": "b9xK5mEXeVeE",
        "colab_type": "code",
        "colab": {
          "base_uri": "https://localhost:8080/",
          "height": 156
        },
        "outputId": "40fd24d5-a6ec-43fa-b0d8-a36c5441e1ee"
      },
      "source": [
        "# Mean\n",
        "\n",
        "# age\n",
        "print(np.mean(s1['age']))\n",
        "print(np.mean(s2['age']),\"\\n\")\n",
        "\n",
        "# year\n",
        "print(np.mean(s1['year']))\n",
        "print(np.mean(s2['year']),\"\\n\")\n",
        "\n",
        "# nodes\n",
        "print(np.mean(s1['nodes']))\n",
        "print(np.mean(s2['nodes']))"
      ],
      "execution_count": 31,
      "outputs": [
        {
          "output_type": "stream",
          "text": [
            "52.01777777777778\n",
            "53.67901234567901 \n",
            "\n",
            "62.86222222222222\n",
            "62.82716049382716 \n",
            "\n",
            "2.7911111111111113\n",
            "7.45679012345679\n"
          ],
          "name": "stdout"
        }
      ]
    },
    {
      "cell_type": "code",
      "metadata": {
        "id": "S33lstsEe9Bc",
        "colab_type": "code",
        "colab": {
          "base_uri": "https://localhost:8080/",
          "height": 156
        },
        "outputId": "45601694-c9f0-498a-c276-e8735199466d"
      },
      "source": [
        "# Median\n",
        "\n",
        "# age\n",
        "print(np.median(s1['age']))\n",
        "print(np.median(s2['age']),\"\\n\")\n",
        "\n",
        "# year\n",
        "print(np.median(s1['year']))\n",
        "print(np.median(s2['year']),\"\\n\")\n",
        "\n",
        "# nodes\n",
        "print(np.median(s1['nodes']))\n",
        "print(np.median(s2['nodes']))"
      ],
      "execution_count": 32,
      "outputs": [
        {
          "output_type": "stream",
          "text": [
            "52.0\n",
            "53.0 \n",
            "\n",
            "63.0\n",
            "63.0 \n",
            "\n",
            "0.0\n",
            "4.0\n"
          ],
          "name": "stdout"
        }
      ]
    },
    {
      "cell_type": "code",
      "metadata": {
        "id": "6iTGIQhogWL9",
        "colab_type": "code",
        "colab": {
          "base_uri": "https://localhost:8080/",
          "height": 52
        },
        "outputId": "92a716fe-ab89-4977-80bf-db12d7395cd2"
      },
      "source": [
        "# Mode\n",
        "\n",
        "from scipy.stats import mode\n",
        "\n",
        "print(mode(s1['age']))\n",
        "print(mode(s2['age']))"
      ],
      "execution_count": 33,
      "outputs": [
        {
          "output_type": "stream",
          "text": [
            "ModeResult(mode=array([50]), count=array([10]))\n",
            "ModeResult(mode=array([53]), count=array([6]))\n"
          ],
          "name": "stdout"
        }
      ]
    },
    {
      "cell_type": "markdown",
      "metadata": {
        "id": "sJd0sL7rNcQ8",
        "colab_type": "text"
      },
      "source": [
        "Q1-- Plot Histogram for all features of the data set and write comments on which feature is best for predicting survival status.\n",
        "\n",
        "(Hint: Use same process as did in iris data set.)"
      ]
    },
    {
      "cell_type": "code",
      "metadata": {
        "id": "5inYcw-KNcQ_",
        "colab_type": "code",
        "colab": {}
      },
      "source": [
        "#Write your code here for ploting--"
      ],
      "execution_count": 0,
      "outputs": []
    },
    {
      "cell_type": "code",
      "metadata": {
        "id": "ajJrE5E_NcRQ",
        "colab_type": "code",
        "outputId": "dfc1f7c8-f070-48c9-f4d1-70e402e39d0c",
        "colab": {
          "base_uri": "https://localhost:8080/",
          "height": 812
        }
      },
      "source": [
        "# Age\n",
        "plt.hist(hab.age,bins=10,color='maroon')\n",
        "plt.xlabel(\"Age\")\n",
        "plt.ylabel(\"Frequency\")\n",
        "plt.show()\n",
        "\n",
        "# Year\n",
        "plt.hist(hab.year,bins=12,color='maroon')\n",
        "plt.xlabel(\"Year\")\n",
        "plt.ylabel(\"Frequency\")\n",
        "plt.show()\n",
        "\n",
        "# Nodes\n",
        "plt.hist(hab.nodes,bins=20,color='maroon')\n",
        "plt.xlabel(\"Nodes\")\n",
        "plt.ylabel(\"Frequency\")\n",
        "plt.show()"
      ],
      "execution_count": 26,
      "outputs": [
        {
          "output_type": "display_data",
          "data": {
            "image/png": "[encoded data removed]",
            "text/plain": [
              "<Figure size 432x288 with 1 Axes>"
            ]
          },
          "metadata": {
            "tags": []
          }
        },
        {
          "output_type": "display_data",
          "data": {
            "image/png": "[encoded data removed]",
            "text/plain": [
              "<Figure size 432x288 with 1 Axes>"
            ]
          },
          "metadata": {
            "tags": []
          }
        },
        {
          "output_type": "display_data",
          "data": {
            "image/png": "[encoded data removed]",
            "text/plain": [
              "<Figure size 432x288 with 1 Axes>"
            ]
          },
          "metadata": {
            "tags": []
          }
        }
      ]
    },
    {
      "cell_type": "code",
      "metadata": {
        "id": "yObqnAjeNcRX",
        "colab_type": "code",
        "colab": {}
      },
      "source": [
        "# Write your comments here--"
      ],
      "execution_count": 0,
      "outputs": []
    },
    {
      "cell_type": "markdown",
      "metadata": {
        "id": "MiQxvOjHUQCm",
        "colab_type": "text"
      },
      "source": [
        "Upon comparing the 3 graphs, we see that :\n",
        "\n",
        "1. Graph 1, for the feature 'Age' has an almost normal distribution\n",
        "\n",
        "2. Graph 2, for the feature 'Year', is right skewed, means, the data is non-uniform. \n",
        "\n",
        "3. The graph for the 3rd feature, Nodes, is highly right skewed, and has too many outliers. Definitely, the worst choice for predicting the survival status.\n",
        "\n",
        "So, the best choice for predicting survival status is **Age**"
      ]
    },
    {
      "cell_type": "markdown",
      "metadata": {
        "id": "WmOcUeOfNcR3",
        "colab_type": "text"
      },
      "source": [
        "Q2-- On the ipl wala dataset create a function which will accept a batsman name and 1 interger value and returns the number of runs he has after those many matches\n",
        "\n",
        "E.g Input (V Kohli, 18)\n",
        "\n",
        "Output - 678(Runs scored by Virat Kohli after 18 matches"
      ]
    },
    {
      "cell_type": "code",
      "metadata": {
        "id": "JB-T2OhG1cgE",
        "colab_type": "code",
        "outputId": "53c17dc2-47ed-4b8c-f669-190fd027f3ed",
        "colab": {
          "base_uri": "https://localhost:8080/",
          "height": 396
        }
      },
      "source": [
        "delv = pd.read_csv('/content/gdrive/My Drive/deliveries.csv')\n",
        "delv.head()"
      ],
      "execution_count": 4,
      "outputs": [
        {
          "output_type": "execute_result",
          "data": {
            "text/html": [
              "<div>\n",
              "<style scoped>\n",
              "    .dataframe tbody tr th:only-of-type {\n",
              "        vertical-align: middle;\n",
              "    }\n",
              "\n",
              "    .dataframe tbody tr th {\n",
              "        vertical-align: top;\n",
              "    }\n",
              "\n",
              "    .dataframe thead th {\n",
              "        text-align: right;\n",
              "    }\n",
              "</style>\n",
              "<table border=\"1\" class=\"dataframe\">\n",
              "  <thead>\n",
              "    <tr style=\"text-align: right;\">\n",
              "      <th></th>\n",
              "      <th>match_id</th>\n",
              "      <th>inning</th>\n",
              "      <th>batting_team</th>\n",
              "      <th>bowling_team</th>\n",
              "      <th>over</th>\n",
              "      <th>ball</th>\n",
              "      <th>batsman</th>\n",
              "      <th>non_striker</th>\n",
              "      <th>bowler</th>\n",
              "      <th>is_super_over</th>\n",
              "      <th>wide_runs</th>\n",
              "      <th>bye_runs</th>\n",
              "      <th>legbye_runs</th>\n",
              "      <th>noball_runs</th>\n",
              "      <th>penalty_runs</th>\n",
              "      <th>batsman_runs</th>\n",
              "      <th>extra_runs</th>\n",
              "      <th>total_runs</th>\n",
              "      <th>player_dismissed</th>\n",
              "      <th>dismissal_kind</th>\n",
              "      <th>fielder</th>\n",
              "    </tr>\n",
              "  </thead>\n",
              "  <tbody>\n",
              "    <tr>\n",
              "      <th>0</th>\n",
              "      <td>1</td>\n",
              "      <td>1</td>\n",
              "      <td>Sunrisers Hyderabad</td>\n",
              "      <td>Royal Challengers Bangalore</td>\n",
              "      <td>1</td>\n",
              "      <td>1</td>\n",
              "      <td>DA Warner</td>\n",
              "      <td>S Dhawan</td>\n",
              "      <td>TS Mills</td>\n",
              "      <td>0</td>\n",
              "      <td>0</td>\n",
              "      <td>0</td>\n",
              "      <td>0</td>\n",
              "      <td>0</td>\n",
              "      <td>0</td>\n",
              "      <td>0</td>\n",
              "      <td>0</td>\n",
              "      <td>0</td>\n",
              "      <td>NaN</td>\n",
              "      <td>NaN</td>\n",
              "      <td>NaN</td>\n",
              "    </tr>\n",
              "    <tr>\n",
              "      <th>1</th>\n",
              "      <td>1</td>\n",
              "      <td>1</td>\n",
              "      <td>Sunrisers Hyderabad</td>\n",
              "      <td>Royal Challengers Bangalore</td>\n",
              "      <td>1</td>\n",
              "      <td>2</td>\n",
              "      <td>DA Warner</td>\n",
              "      <td>S Dhawan</td>\n",
              "      <td>TS Mills</td>\n",
              "      <td>0</td>\n",
              "      <td>0</td>\n",
              "      <td>0</td>\n",
              "      <td>0</td>\n",
              "      <td>0</td>\n",
              "      <td>0</td>\n",
              "      <td>0</td>\n",
              "      <td>0</td>\n",
              "      <td>0</td>\n",
              "      <td>NaN</td>\n",
              "      <td>NaN</td>\n",
              "      <td>NaN</td>\n",
              "    </tr>\n",
              "    <tr>\n",
              "      <th>2</th>\n",
              "      <td>1</td>\n",
              "      <td>1</td>\n",
              "      <td>Sunrisers Hyderabad</td>\n",
              "      <td>Royal Challengers Bangalore</td>\n",
              "      <td>1</td>\n",
              "      <td>3</td>\n",
              "      <td>DA Warner</td>\n",
              "      <td>S Dhawan</td>\n",
              "      <td>TS Mills</td>\n",
              "      <td>0</td>\n",
              "      <td>0</td>\n",
              "      <td>0</td>\n",
              "      <td>0</td>\n",
              "      <td>0</td>\n",
              "      <td>0</td>\n",
              "      <td>4</td>\n",
              "      <td>0</td>\n",
              "      <td>4</td>\n",
              "      <td>NaN</td>\n",
              "      <td>NaN</td>\n",
              "      <td>NaN</td>\n",
              "    </tr>\n",
              "    <tr>\n",
              "      <th>3</th>\n",
              "      <td>1</td>\n",
              "      <td>1</td>\n",
              "      <td>Sunrisers Hyderabad</td>\n",
              "      <td>Royal Challengers Bangalore</td>\n",
              "      <td>1</td>\n",
              "      <td>4</td>\n",
              "      <td>DA Warner</td>\n",
              "      <td>S Dhawan</td>\n",
              "      <td>TS Mills</td>\n",
              "      <td>0</td>\n",
              "      <td>0</td>\n",
              "      <td>0</td>\n",
              "      <td>0</td>\n",
              "      <td>0</td>\n",
              "      <td>0</td>\n",
              "      <td>0</td>\n",
              "      <td>0</td>\n",
              "      <td>0</td>\n",
              "      <td>NaN</td>\n",
              "      <td>NaN</td>\n",
              "      <td>NaN</td>\n",
              "    </tr>\n",
              "    <tr>\n",
              "      <th>4</th>\n",
              "      <td>1</td>\n",
              "      <td>1</td>\n",
              "      <td>Sunrisers Hyderabad</td>\n",
              "      <td>Royal Challengers Bangalore</td>\n",
              "      <td>1</td>\n",
              "      <td>5</td>\n",
              "      <td>DA Warner</td>\n",
              "      <td>S Dhawan</td>\n",
              "      <td>TS Mills</td>\n",
              "      <td>0</td>\n",
              "      <td>2</td>\n",
              "      <td>0</td>\n",
              "      <td>0</td>\n",
              "      <td>0</td>\n",
              "      <td>0</td>\n",
              "      <td>0</td>\n",
              "      <td>2</td>\n",
              "      <td>2</td>\n",
              "      <td>NaN</td>\n",
              "      <td>NaN</td>\n",
              "      <td>NaN</td>\n",
              "    </tr>\n",
              "  </tbody>\n",
              "</table>\n",
              "</div>"
            ],
            "text/plain": [
              "   match_id  inning  ... dismissal_kind fielder\n",
              "0         1       1  ...            NaN     NaN\n",
              "1         1       1  ...            NaN     NaN\n",
              "2         1       1  ...            NaN     NaN\n",
              "3         1       1  ...            NaN     NaN\n",
              "4         1       1  ...            NaN     NaN\n",
              "\n",
              "[5 rows x 21 columns]"
            ]
          },
          "metadata": {
            "tags": []
          },
          "execution_count": 4
        }
      ]
    },
    {
      "cell_type": "code",
      "metadata": {
        "id": "MsODSEB66nTs",
        "colab_type": "code",
        "colab": {
          "base_uri": "https://localhost:8080/",
          "height": 34
        },
        "outputId": "a0c6a286-f7ee-4537-b027-065a6bebc404"
      },
      "source": [
        "# Give your comments here\n",
        "def fun1(name,matches):\n",
        "  new = delv[delv['batsman']==name]\n",
        "  return sum(new.groupby('match_id')['batsman_runs'].agg(sum).head(matches).values)\n",
        "\n",
        "# Test\n",
        "fun1('RG Sharma',18)"
      ],
      "execution_count": 8,
      "outputs": [
        {
          "output_type": "execute_result",
          "data": {
            "text/plain": [
              "399"
            ]
          },
          "metadata": {
            "tags": []
          },
          "execution_count": 8
        }
      ]
    },
    {
      "cell_type": "markdown",
      "metadata": {
        "id": "dOIJMc7dU5Al",
        "colab_type": "text"
      },
      "source": [
        "Q3: Write a function which will plot the match wise scores of two batsman in the form of a PDF, check this [image](https://drive.google.com/open?id=18y9DiuVvNZ3p5LIBv-eaDVxNtXrI7hp9)\n",
        "<img src=\"\"/>"
      ]
    },
    {
      "cell_type": "code",
      "metadata": {
        "id": "hGGkEKPyNcSS",
        "colab_type": "code",
        "colab": {
          "base_uri": "https://localhost:8080/",
          "height": 337
        },
        "outputId": "59d1b898-608c-4f9a-b4cb-3d74faef9279"
      },
      "source": [
        "def fun2(name1,name2):\n",
        "  plt.figure(figsize=(10,5))\n",
        "  sns.distplot(pd.DataFrame(delv[delv['batsman']==name1].groupby('match_id')['batsman_runs'].agg(sum))['batsman_runs'],bins=25,kde=True)\n",
        "  sns.distplot(pd.DataFrame(delv[delv['batsman']==name2].groupby('match_id')['batsman_runs'].agg(sum))['batsman_runs'],bins=25,kde=True)\n",
        "  plt.xlabel(\"Runs Scored\")\n",
        "  plt.legend([name1,name2])\n",
        "  plt.show()\n",
        "\n",
        "# Test\n",
        "fun2('V Kohli','RG Sharma')"
      ],
      "execution_count": 36,
      "outputs": [
        {
          "output_type": "display_data",
          "data": {
            "image/png": "[encoded data removed]",
            "text/plain": [
              "<Figure size 720x360 with 1 Axes>"
            ]
          },
          "metadata": {
            "tags": []
          }
        }
      ]
    },
    {
      "cell_type": "markdown",
      "metadata": {
        "id": "yIg8OdPMNcSY",
        "colab_type": "text"
      },
      "source": [
        "Q4-- Write a function which will take a list as input and in return plot PDF and CDF curve as like in IRIS one.\n",
        "\n",
        "     (you have to write your on logic for np.cumsum()--(cummulative sum- function) )"
      ]
    },
    {
      "cell_type": "code",
      "metadata": {
        "id": "Eoq8Xz33NcSq",
        "colab_type": "code",
        "colab": {
          "base_uri": "https://localhost:8080/",
          "height": 581
        },
        "outputId": "77904fd9-6fc6-4623-8c10-eee47858cffb"
      },
      "source": [
        "# Write your code here--\n",
        "\n",
        "# Logic for np.cumsum()\n",
        "def cumsum(lst):\n",
        "  cumval = 0\n",
        "  cumlst = []\n",
        "  for val in lst:\n",
        "    cumval = cumval + val\n",
        "    cumlst.append(cumval)\n",
        "  return cumlst\n",
        "\n",
        "# Main function for plotting\n",
        "def plot(test_list):\n",
        "  count,bins = np.histogram(test_list,bins=10)        # The bins will give us the ranges we want in our X-axis. The Y-axis will vary according to pdf or cdf. \n",
        "  pdf_val = count/sum(count)\n",
        "  cdf_val = cumsum(pdf_val)\n",
        "  # pdf\n",
        "  plt.plot(bins[1:],pdf_val,marker=\"o\")\n",
        "  plt.xlabel(\"Range\")\n",
        "  plt.ylabel(\"Values\")\n",
        "  plt.title(\"Probability Density Function\")\n",
        "  plt.show()\n",
        "  # cdf\n",
        "  plt.plot(bins[1:],cdf_val,color='blue',marker=\"o\")\n",
        "  plt.xlabel(\"Range\")\n",
        "  plt.ylabel(\"Values\")\n",
        "  plt.title(\"Cummulative Density Function\")\n",
        "  plt.show()\n",
        "\n",
        "# Test\n",
        "plot([1,2,3,4,5,5,2,4,7,6,8,9,5,1,0,10,20,31,100,50,1,43,44,2,1,6,12,35,18,19,24,51,101,200,1,3])\n",
        "\n",
        "# Upon observation of data, we expect a right skewed pdf and an increasing cdf."
      ],
      "execution_count": 21,
      "outputs": [
        {
          "output_type": "display_data",
          "data": {
            "image/png": "[encoded data removed]",
            "text/plain": [
              "<Figure size 432x288 with 1 Axes>"
            ]
          },
          "metadata": {
            "tags": []
          }
        },
        {
          "output_type": "display_data",
          "data": {
            "image/png": "[encoded data removed]",
            "text/plain": [
              "<Figure size 432x288 with 1 Axes>"
            ]
          },
          "metadata": {
            "tags": []
          }
        }
      ]
    },
    {
      "cell_type": "code",
      "metadata": {
        "id": "1TT_MfP1NcSx",
        "colab_type": "code",
        "colab": {}
      },
      "source": [
        ""
      ],
      "execution_count": 0,
      "outputs": []
    },
    {
      "cell_type": "code",
      "metadata": {
        "id": "zfjiysMaNcS3",
        "colab_type": "code",
        "colab": {}
      },
      "source": [
        ""
      ],
      "execution_count": 0,
      "outputs": []
    },
    {
      "cell_type": "code",
      "metadata": {
        "id": "l4qGachiNcS-",
        "colab_type": "code",
        "colab": {}
      },
      "source": [
        ""
      ],
      "execution_count": 0,
      "outputs": []
    }
  ]
}